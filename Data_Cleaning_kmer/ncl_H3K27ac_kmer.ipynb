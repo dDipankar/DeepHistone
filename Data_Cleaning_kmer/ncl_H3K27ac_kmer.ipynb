{
 "cells": [
  {
   "cell_type": "code",
   "execution_count": 8,
   "metadata": {
    "collapsed": true
   },
   "outputs": [],
   "source": [
    "from __future__ import print_function\n",
    "from __future__ import division\n",
    "\n",
    "from collections import OrderedDict\n",
    "import os\n",
    "import sys\n",
    "import warnings\n",
    "\n",
    "import argparse\n",
    "import logging\n",
    "import h5py as h5\n",
    "import numpy as np\n",
    "import pandas as pd\n",
    "import scipy.io\n",
    "from imblearn.under_sampling import OneSidedSelection, NeighbourhoodCleaningRule\n",
    "\n",
    "import six\n",
    "from six.moves import range\n",
    "\n",
    "np.random.seed(1369)"
   ]
  },
  {
   "cell_type": "code",
   "execution_count": 3,
   "metadata": {},
   "outputs": [
    {
     "name": "stdout",
     "output_type": "stream",
     "text": [
      "(8231, 2081)\n"
     ]
    }
   ],
   "source": [
    " input_kmer_positive = pd.read_csv('K562_H3K27ac_2000pos.csv', sep=',', header=None, skiprows=1)\n",
    " input_kmer_positive = input_kmer_positive.values;\n",
    " input_kmer_positive = np.array(input_kmer_positive, dtype = 'int8')\n",
    " print(input_kmer_positive.shape)"
   ]
  },
  {
   "cell_type": "code",
   "execution_count": 4,
   "metadata": {},
   "outputs": [
    {
     "name": "stdout",
     "output_type": "stream",
     "text": [
      "(21597, 2081)\n"
     ]
    }
   ],
   "source": [
    " input_kmer_negative = pd.read_csv('K562_H3K27ac_2000neg.csv', sep=',', header=None, skiprows=1)\n",
    " input_kmer_negative = input_kmer_negative.values\n",
    " input_kmer_negative = np.array(input_kmer_negative, dtype = 'int8')\n",
    " print(input_kmer_negative.shape)   "
   ]
  },
  {
   "cell_type": "code",
   "execution_count": 5,
   "metadata": {
    "collapsed": true
   },
   "outputs": [],
   "source": [
    " #combining positive and negative sample rowwise\n",
    " input_kmer = np.concatenate((input_kmer_positive,input_kmer_negative), axis = 0)\n",
    " np.random.shuffle(input_kmer)\n",
    " output_label = input_kmer[:,2080]\n",
    " input_kmer = np.delete(input_kmer,2080,1)"
   ]
  },
  {
   "cell_type": "code",
   "execution_count": 6,
   "metadata": {},
   "outputs": [
    {
     "name": "stdout",
     "output_type": "stream",
     "text": [
      "(29828, 2080)\n",
      "(29828,)\n"
     ]
    }
   ],
   "source": [
    " X = input_kmer\n",
    " y = output_label\n",
    " print(X.shape)\n",
    " print(y.shape)"
   ]
  },
  {
   "cell_type": "code",
   "execution_count": 7,
   "metadata": {},
   "outputs": [
    {
     "name": "stdout",
     "output_type": "stream",
     "text": [
      "(23634, 2080)\n"
     ]
    }
   ],
   "source": [
    " ncl = NeighbourhoodCleaningRule(random_state = 42, return_indices=True)\n",
    " X_resampled, y_resampled, idx_resampled = ncl.fit_sample(X, y)\n",
    " print(X_resampled.shape)"
   ]
  },
  {
   "cell_type": "code",
   "execution_count": 9,
   "metadata": {},
   "outputs": [],
   "source": [
    " h5filename = \"histonemodKmer_resample_ncl_K562.h5\" \n",
    " h5file = h5.File(h5filename,'a')\n"
   ]
  },
  {
   "cell_type": "code",
   "execution_count": 10,
   "metadata": {},
   "outputs": [
    {
     "data": {
      "text/plain": [
       "<HDF5 dataset \"H3K27ac_2000\": shape (23634,), type \"|i1\">"
      ]
     },
     "execution_count": 10,
     "metadata": {},
     "output_type": "execute_result"
    }
   ],
   "source": [
    " #in_group = h5file.create_group('input')\n",
    " h5file.create_dataset('/input/H3K27ac_kmer_2000',data = X_resampled, dtype = np.float64, compression ='gzip')\n",
    " #out_group = h5file.create_group('output')\n",
    " h5file.create_dataset('/output/H3K27ac_2000',data = y_resampled, dtype = np.int8, compression ='gzip')\t\n",
    " #h5file.create_dataset('/output/H3K27ac_idx',data = idx_resampled, dtype = np.int8, compression ='gzip')\n"
   ]
  },
  {
   "cell_type": "code",
   "execution_count": 11,
   "metadata": {
    "collapsed": true
   },
   "outputs": [],
   "source": [
    " h5file.close()"
   ]
  },
  {
   "cell_type": "code",
   "execution_count": null,
   "metadata": {
    "collapsed": true
   },
   "outputs": [],
   "source": []
  }
 ],
 "metadata": {
  "kernelspec": {
   "display_name": "Python 2",
   "language": "python",
   "name": "python2"
  },
  "language_info": {
   "codemirror_mode": {
    "name": "ipython",
    "version": 2
   },
   "file_extension": ".py",
   "mimetype": "text/x-python",
   "name": "python",
   "nbconvert_exporter": "python",
   "pygments_lexer": "ipython2",
   "version": "2.7.14"
  }
 },
 "nbformat": 4,
 "nbformat_minor": 2
}
