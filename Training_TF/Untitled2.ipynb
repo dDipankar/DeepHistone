{
 "cells": [
  {
   "cell_type": "code",
   "execution_count": 5,
   "metadata": {},
   "outputs": [
    {
     "name": "stderr",
     "output_type": "stream",
     "text": [
      "Using TensorFlow backend.\n"
     ]
    }
   ],
   "source": [
    "from __future__ import print_function\n",
    "from __future__ import division\n",
    "\n",
    "from collections import OrderedDict\n",
    "import os\n",
    "import sys\n",
    "import warnings\n",
    "\n",
    "import argparse\n",
    "import logging\n",
    "import h5py as h5\n",
    "import numpy as np\n",
    "import pandas as pd\n",
    "import scipy.io\n",
    "\n",
    "import six\n",
    "from six.moves import range\n",
    "import csv\n",
    "import math as ma\n",
    "from sklearn.metrics import roc_auc_score, confusion_matrix, average_precision_score,roc_curve,auc,precision_recall_curve\n",
    "from keras.preprocessing import sequence\n",
    "from keras.optimizers import RMSprop,Adam, Adadelta, Nadam, Adamax, SGD, Adagrad\n",
    "from keras.models import Sequential\n",
    "from keras.layers.core import  Dropout, Activation, Flatten\n",
    "from keras.regularizers import l1,l2,l1_l2\n",
    "from keras.constraints import maxnorm\n",
    "#from keras.layers.recurrent import LSTM, GRU\n",
    "from keras.callbacks import ModelCheckpoint, EarlyStopping\n",
    "from keras.layers import Conv1D, MaxPooling1D, Dense, LSTM, Bidirectional\n",
    "from sklearn.ensemble import GradientBoostingClassifier\n",
    "import matplotlib.pyplot as plt\n",
    "from sklearn.manifold import TSNE"
   ]
  },
  {
   "cell_type": "code",
   "execution_count": 8,
   "metadata": {},
   "outputs": [
    {
     "name": "stdout",
     "output_type": "stream",
     "text": [
      "(26858, 30)\n",
      "(26858,)\n"
     ]
    }
   ],
   "source": [
    "h5filename = \"histonemodTF_resample_ncl.h5\"\n",
    "h5file = h5.File(h5filename,'r')\n",
    "input_features = h5file['input/H3K4me3_RPKM']\n",
    "output_H3K4me3 = h5file['output/H3K4me3']\n",
    "print(input_features.shape)\n",
    "print(output_H3K4me3.shape)  "
   ]
  },
  {
   "cell_type": "code",
   "execution_count": 9,
   "metadata": {},
   "outputs": [
    {
     "name": "stdout",
     "output_type": "stream",
     "text": [
      "(26858,)\n"
     ]
    }
   ],
   "source": [
    "input_features = np.array(input_features)\n",
    "output_H3K4me3 = np.array(output_H3K4me3)\n",
    "output_H3K4me3_reshape = output_H3K4me3.reshape(len(output_H3K4me3),1)\n",
    "print(output_H3K4me3.shape)"
   ]
  },
  {
   "cell_type": "code",
   "execution_count": 10,
   "metadata": {},
   "outputs": [
    {
     "name": "stdout",
     "output_type": "stream",
     "text": [
      "[t-SNE] Computing 121 nearest neighbors...\n",
      "[t-SNE] Indexed 26858 samples in 0.157s...\n",
      "[t-SNE] Computed neighbors for 26858 samples in 62.079s...\n",
      "[t-SNE] Computed conditional probabilities for sample 1000 / 26858\n",
      "[t-SNE] Computed conditional probabilities for sample 2000 / 26858\n",
      "[t-SNE] Computed conditional probabilities for sample 3000 / 26858\n",
      "[t-SNE] Computed conditional probabilities for sample 4000 / 26858\n",
      "[t-SNE] Computed conditional probabilities for sample 5000 / 26858\n",
      "[t-SNE] Computed conditional probabilities for sample 6000 / 26858\n",
      "[t-SNE] Computed conditional probabilities for sample 7000 / 26858\n",
      "[t-SNE] Computed conditional probabilities for sample 8000 / 26858\n",
      "[t-SNE] Computed conditional probabilities for sample 9000 / 26858\n",
      "[t-SNE] Computed conditional probabilities for sample 10000 / 26858\n",
      "[t-SNE] Computed conditional probabilities for sample 11000 / 26858\n",
      "[t-SNE] Computed conditional probabilities for sample 12000 / 26858\n",
      "[t-SNE] Computed conditional probabilities for sample 13000 / 26858\n",
      "[t-SNE] Computed conditional probabilities for sample 14000 / 26858\n",
      "[t-SNE] Computed conditional probabilities for sample 15000 / 26858\n",
      "[t-SNE] Computed conditional probabilities for sample 16000 / 26858\n",
      "[t-SNE] Computed conditional probabilities for sample 17000 / 26858\n",
      "[t-SNE] Computed conditional probabilities for sample 18000 / 26858\n",
      "[t-SNE] Computed conditional probabilities for sample 19000 / 26858\n",
      "[t-SNE] Computed conditional probabilities for sample 20000 / 26858\n",
      "[t-SNE] Computed conditional probabilities for sample 21000 / 26858\n",
      "[t-SNE] Computed conditional probabilities for sample 22000 / 26858\n",
      "[t-SNE] Computed conditional probabilities for sample 23000 / 26858\n",
      "[t-SNE] Computed conditional probabilities for sample 24000 / 26858\n",
      "[t-SNE] Computed conditional probabilities for sample 25000 / 26858\n",
      "[t-SNE] Computed conditional probabilities for sample 26000 / 26858\n",
      "[t-SNE] Computed conditional probabilities for sample 26858 / 26858\n",
      "[t-SNE] Mean sigma: 0.561102\n",
      "[t-SNE] Computed conditional probabilities in 2.259s\n",
      "[t-SNE] Iteration 50: error = 102.7815323, gradient norm = 0.0000903 (50 iterations in 91.190s)\n",
      "[t-SNE] Iteration 100: error = 93.4461441, gradient norm = 0.0016075 (50 iterations in 76.334s)\n",
      "[t-SNE] Iteration 150: error = 91.7187347, gradient norm = 0.0004006 (50 iterations in 62.855s)\n",
      "[t-SNE] Iteration 200: error = 91.4668655, gradient norm = 0.0001758 (50 iterations in 60.593s)\n",
      "[t-SNE] Iteration 250: error = 91.3937988, gradient norm = 0.0001011 (50 iterations in 62.898s)\n",
      "[t-SNE] KL divergence after 250 iterations with early exaggeration: 91.393799\n",
      "[t-SNE] Iteration 300: error = 4.0402446, gradient norm = 0.0011948 (50 iterations in 58.249s)\n",
      "[t-SNE] Iteration 350: error = 3.5712054, gradient norm = 0.0005610 (50 iterations in 57.986s)\n",
      "[t-SNE] Iteration 400: error = 3.3382092, gradient norm = 0.0003535 (50 iterations in 58.530s)\n",
      "[t-SNE] Iteration 450: error = 3.1956184, gradient norm = 0.0002467 (50 iterations in 57.676s)\n",
      "[t-SNE] Iteration 500: error = 3.0975108, gradient norm = 0.0001863 (50 iterations in 59.399s)\n",
      "[t-SNE] Iteration 550: error = 3.0249975, gradient norm = 0.0001480 (50 iterations in 61.186s)\n",
      "[t-SNE] Iteration 600: error = 2.9680974, gradient norm = 0.0001225 (50 iterations in 59.209s)\n",
      "[t-SNE] Iteration 650: error = 2.9217389, gradient norm = 0.0001035 (50 iterations in 60.596s)\n",
      "[t-SNE] Iteration 700: error = 2.8832834, gradient norm = 0.0000889 (50 iterations in 57.935s)\n",
      "[t-SNE] Iteration 750: error = 2.8510485, gradient norm = 0.0000774 (50 iterations in 57.744s)\n",
      "[t-SNE] Iteration 800: error = 2.8232608, gradient norm = 0.0000691 (50 iterations in 58.207s)\n",
      "[t-SNE] Iteration 850: error = 2.7990010, gradient norm = 0.0000610 (50 iterations in 58.212s)\n",
      "[t-SNE] Iteration 900: error = 2.7775793, gradient norm = 0.0000548 (50 iterations in 58.178s)\n",
      "[t-SNE] Iteration 950: error = 2.7586889, gradient norm = 0.0000496 (50 iterations in 57.560s)\n",
      "[t-SNE] Iteration 1000: error = 2.7418907, gradient norm = 0.0000454 (50 iterations in 57.241s)\n",
      "[t-SNE] Error after 1000 iterations: 2.741891\n",
      "[[ 53.43429184 -22.27532005]\n",
      " [  1.72137654 -55.55754089]\n",
      " [ 23.88344002 -49.86096954]\n",
      " ..., \n",
      " [ 28.7478981  -47.43107224]\n",
      " [ 28.64301109 -47.47852707]\n",
      " [ 28.25614548 -47.7363472 ]]\n"
     ]
    }
   ],
   "source": [
    "X = input_features\n",
    "X_embedded = TSNE(n_components=2, perplexity=40, verbose=2).fit_transform(X)\n",
    "print(X_embedded)"
   ]
  },
  {
   "cell_type": "code",
   "execution_count": 13,
   "metadata": {},
   "outputs": [
    {
     "name": "stdout",
     "output_type": "stream",
     "text": [
      "(11865, 3)\n",
      "(14993, 3)\n",
      "(11865, 2)\n",
      "(14993, 2)\n"
     ]
    }
   ],
   "source": [
    "#combine the label with input dna\n",
    "y = np.array(output_H3K4me3, dtype='int8')\n",
    "y_reshape = y.reshape(len(y),1)\n",
    "input_features_label = np.concatenate((X_embedded,y_reshape), axis=1)\n",
    "H3K4me3_df = pd.DataFrame(y)\n",
    "pos_label= H3K4me3_df.loc[H3K4me3_df.iloc[:,0]==1]\n",
    "pos_label_ix = np.array(pos_label.index)\n",
    "neg_label = H3K4me3_df.loc[H3K4me3_df.iloc[:,0]==0]\n",
    "neg_label_ix = np.array(neg_label.index)\n",
    "pos_sam_H3K4me3 = input_features_label[pos_label_ix,:]\n",
    "neg_sam_H3K4me3 = input_features_label[neg_label_ix,:]\n",
    "X_pos = pos_sam_H3K4me3[:,0:2]\n",
    "X_neg = neg_sam_H3K4me3[:,0:2]\n",
    "print(pos_sam_H3K4me3.shape)\n",
    "print(neg_sam_H3K4me3.shape)\n",
    "print(X_pos.shape)\n",
    "print(X_neg.shape)\n",
    " "
   ]
  },
  {
   "cell_type": "code",
   "execution_count": 18,
   "metadata": {},
   "outputs": [
    {
     "data": {
      "image/png": "[encoded data removed]",
      "text/plain": [
       "<matplotlib.figure.Figure at 0x7f303ad2cf90>"
      ]
     },
     "metadata": {},
     "output_type": "display_data"
    }
   ],
   "source": [
    "#idx_samples_removed = np.setdiff1d(np.arange(X_vis.shape[0]), idx_resampled)\n",
    "plt.scatter(X_pos[:,0], X_pos[:,1],marker='o',s=8, c='green')\n",
    "plt.scatter(X_neg[:,0], X_neg[:,1],marker='o',s=8, c='red')\n",
    "# make nice plotting\n",
    "#plt.show()\n",
    "plt.show()\n",
    " "
   ]
  },
  {
   "cell_type": "code",
   "execution_count": null,
   "metadata": {
    "collapsed": true
   },
   "outputs": [],
   "source": []
  }
 ],
 "metadata": {
  "kernelspec": {
   "display_name": "Python 2",
   "language": "python",
   "name": "python2"
  },
  "language_info": {
   "codemirror_mode": {
    "name": "ipython",
    "version": 2
   },
   "file_extension": ".py",
   "mimetype": "text/x-python",
   "name": "python",
   "nbconvert_exporter": "python",
   "pygments_lexer": "ipython2",
   "version": "2.7.14"
  }
 },
 "nbformat": 4,
 "nbformat_minor": 2
}
