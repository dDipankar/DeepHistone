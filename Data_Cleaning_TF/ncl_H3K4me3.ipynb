{
 "cells": [
  {
   "cell_type": "code",
   "execution_count": 27,
   "metadata": {
    "collapsed": true
   },
   "outputs": [],
   "source": [
    "import os\n",
    "import sys\n",
    "import warnings\n",
    "from sklearn.manifold import TSNE\n",
    "from sklearn.decomposition import TruncatedSVD\n",
    "import numpy as np\n",
    "import matplotlib.pyplot as plt\n",
    "import pandas as pd\n",
    "from sklearn.decomposition import PCA\n",
    "from imblearn.under_sampling import OneSidedSelection, NeighbourhoodCleaningRule\n",
    "import h5py as h5"
   ]
  },
  {
   "cell_type": "code",
   "execution_count": 28,
   "metadata": {},
   "outputs": [
    {
     "name": "stdout",
     "output_type": "stream",
     "text": [
      "(29828, 17)\n",
      "[[  0.00000000e+00   5.00000000e+01   0.00000000e+00   2.95960005e-02\n",
      "    7.84038004e-03   0.00000000e+00   5.00000000e+01   0.00000000e+00\n",
      "    0.00000000e+00   5.00000000e+01   1.22997837e-02   1.06408954e-02\n",
      "    7.50686106e-03   0.00000000e+00   5.00000000e+01   2.51356250e-02\n",
      "    5.90926746e-01]\n",
      " [  1.21327240e-02   2.06835886e+00   0.00000000e+00   5.68161254e-02\n",
      "    1.58374602e-02   9.93733907e-02   5.03916571e-01   5.78934054e-01\n",
      "    0.00000000e+00   1.44452890e+00   2.40645361e-02   1.13444256e-02\n",
      "    2.70564596e-02   2.41358436e-02   6.50255350e-01   1.98197611e-02\n",
      "    1.90622100e+00]\n",
      " [  0.00000000e+00   0.00000000e+00   0.00000000e+00   0.00000000e+00\n",
      "    0.00000000e+00   0.00000000e+00   0.00000000e+00   0.00000000e+00\n",
      "    0.00000000e+00   0.00000000e+00   0.00000000e+00   0.00000000e+00\n",
      "    0.00000000e+00   0.00000000e+00   0.00000000e+00   0.00000000e+00\n",
      "    0.00000000e+00]\n",
      " [  0.00000000e+00   0.00000000e+00   3.30594157e-02   0.00000000e+00\n",
      "    0.00000000e+00   0.00000000e+00   0.00000000e+00   0.00000000e+00\n",
      "    0.00000000e+00   0.00000000e+00   0.00000000e+00   0.00000000e+00\n",
      "    0.00000000e+00   6.95426339e-03   0.00000000e+00   0.00000000e+00\n",
      "    0.00000000e+00]\n",
      " [  1.96333897e-01   4.36302386e+00   8.67809661e-02   9.62777253e-02\n",
      "    7.27069364e-02   1.81704317e-01   1.33418486e+00   1.18774683e+00\n",
      "    6.72838797e-02   1.96215850e+00   1.16239911e-01   1.03294746e-01\n",
      "    9.55956503e-02   1.79606289e-01   1.44608254e+00   7.85376068e-02\n",
      "    5.56932383e+00]\n",
      " [  3.90819300e-01   1.29335306e+00   2.85687298e-01   2.68314014e-01\n",
      "    3.54998815e-01   2.54761713e-01   7.78751091e-01   1.01710639e+00\n",
      "    2.79463105e-01   1.07357316e+00   4.99164077e-01   2.99167502e-01\n",
      "    2.59832691e-01   2.59069411e-01   5.01575236e-01   1.52450993e-01\n",
      "    2.68775220e+00]\n",
      " [  2.25047841e+00   1.66777264e+00   1.84128978e+00   2.71667775e+00\n",
      "    3.23649272e+00   9.03148339e+00   1.86725141e+00   1.17781632e+00\n",
      "    4.07025617e+00   1.55359670e+00   7.61951809e-01   2.67650729e+00\n",
      "    1.96420143e+00   1.66874745e+00   1.78135456e+00   3.27433853e+00\n",
      "    2.96621041e-01]\n",
      " [  1.58123353e+00   1.03193071e+00   1.14209377e+00   1.98278430e+00\n",
      "    1.18463227e+00   4.46524953e+00   8.01873282e-01   5.79103512e-01\n",
      "    9.39230825e-01   1.04669690e+00   6.68477753e-01   9.71749460e-01\n",
      "    1.30431750e+00   1.01153669e+00   1.37761715e+00   1.34136112e+00\n",
      "    3.00253554e-01]\n",
      " [  1.42153941e+00   1.72390833e+00   1.58716199e+00   3.27962884e+00\n",
      "    1.74866535e+00   6.00905755e+00   2.14308945e+00   7.86425827e-01\n",
      "    2.29039052e+00   1.53649655e+00   7.05866605e-01   1.23789261e+00\n",
      "    1.14657866e+00   1.35450195e+00   2.08918336e+00   2.61379613e+00\n",
      "    2.43042452e-01]\n",
      " [  1.73566334e+00   2.46417099e+00   2.40050493e+00   1.32029671e+00\n",
      "    2.09323736e+00   7.08642718e+00   3.09450409e+00   1.29777150e+00\n",
      "    3.74233496e+00   1.75944510e+00   6.84026754e-01   2.59670879e+00\n",
      "    1.05127162e+00   1.00995491e+00   2.59264331e+00   7.45795123e+00\n",
      "    3.57767530e-01]]\n"
     ]
    }
   ],
   "source": [
    "usecols = [0, 1, 2, 3, 4, 5,6, 7, 8,9, 10 , 11, 12, 13, 14, 15, 16]\n",
    "#usecols = ['TSS','ATF2', 'BACH1', 'JUN', 'CMYC',\t'E2F6',\t'FOSL1','NANOG','NRSF',\t'POU5F1', 'SIN3A', 'SP4','TCF12','TEAD4','ATF3','CEBPB','CREB','CTCF','EGR1','GABP','JUND','MAFK','MAX','RFX5',\t'SIX5','SP1','SRF','USF1','USF2','YY1','ZNF274']\n",
    "dtype = {  usecols[0]: np.float64, usecols[1]: np.float64, usecols[2]: np.float64, usecols[3]: np.float64, usecols[4]: np.float64, usecols[5]: np.float64, usecols[6]: np.float64,usecols[7]: np.float64, usecols[8]: np.float64,\n",
    "\t\t\tusecols[9]: np.float64, usecols[10]: np.float64, usecols[11]: np.float64, usecols[12]: np.float64, usecols[13]: np.float64, usecols[14]: np.float64, usecols[15]: np.float64,usecols[16]: np.float64\n",
    "        }\n",
    "\n",
    "skiprows = 1 \n",
    "input_RPKM = pd.read_csv('~/code/data/H1_TSS_TF/H1_TSS_TF_CM.csv', sep=',', header=None, usecols=usecols, dtype=dtype, skiprows=skiprows)\n",
    "input_features = input_RPKM.values\n",
    "X = input_features[:,0:17]\n",
    "print(X.shape)\n",
    "print(X[0:10,:])"
   ]
  },
  {
   "cell_type": "code",
   "execution_count": 37,
   "metadata": {},
   "outputs": [
    {
     "name": "stdout",
     "output_type": "stream",
     "text": [
      "(29828, 6)\n",
      "[25705  4123]\n"
     ]
    }
   ],
   "source": [
    " usecols = [0, 1, 2, 3,4,5]\n",
    " dtype = {usecols[0]: np.str, usecols[1]: np.int8, usecols[2]: np.int8, usecols[3]: np.int8, usecols[4]: np.int8, usecols[4]: np.int8}\n",
    " skiprows = 1\n",
    " out_label = pd.read_csv('~/code/data/H1_TSS_TF/H1_TSS_Label.txt', sep = '\\t', header=None, usecols=usecols, dtype=dtype, skiprows=skiprows)\n",
    " print(out_label.shape)\n",
    " output_H3K4me3 = out_label.values[:,1]\n",
    " y = np.array(output_H3K4me3, dtype='int8')  \n",
    " frq  = np.bincount(y)   \n",
    " print(frq)  \n"
   ]
  },
  {
   "cell_type": "code",
   "execution_count": 38,
   "metadata": {},
   "outputs": [
    {
     "name": "stdout",
     "output_type": "stream",
     "text": [
      "(25259, 17)\n"
     ]
    }
   ],
   "source": [
    "# Apply NeighbourhoodCleaningRule\n",
    "ncl = NeighbourhoodCleaningRule(random_state = 42, return_indices=True)\n",
    "X_resampled, y_resampled, idx_resampled = ncl.fit_sample(X, y)\n",
    "print(X_resampled.shape)"
   ]
  },
  {
   "cell_type": "code",
   "execution_count": 21,
   "metadata": {
    "collapsed": true
   },
   "outputs": [],
   "source": [
    "\n",
    " "
   ]
  },
  {
   "cell_type": "code",
   "execution_count": 114,
   "metadata": {
    "collapsed": true
   },
   "outputs": [],
   "source": [
    "  "
   ]
  },
  {
   "cell_type": "code",
   "execution_count": 17,
   "metadata": {},
   "outputs": [],
   "source": [
    "h5filename = \"histonemodTF_resample_ncl_Cells.h5\"\n",
    "h5file = h5.File(h5filename,'a')\n",
    "#in_group = h5file.create_group('input')\n",
    "del h5file['/input/GM12878_H3K27ac_RPKM']\n",
    "del h5file['/output/GM12878_H3K27ac']\n",
    "h5file.create_dataset('/input/GM12878_H3K27ac_RPKM',data = X_resampled, dtype = np.float64, compression ='gzip')\n",
    "#out_group = h5file.create_group('output')\n",
    "h5file.create_dataset('/output/GM12878_H3K27ac',data = y_resampled, dtype = np.int8, compression ='gzip')\n",
    "h5file.close()"
   ]
  },
  {
   "cell_type": "code",
   "execution_count": 10,
   "metadata": {},
   "outputs": [
    {
     "ename": "ValueError",
     "evalue": "Not a file id (Not a file id)",
     "output_type": "error",
     "traceback": [
      "\u001b[0;31m---------------------------------------------------------------------------\u001b[0m",
      "\u001b[0;31mValueError\u001b[0m                                Traceback (most recent call last)",
      "\u001b[0;32m<ipython-input-10-5a090e81d523>\u001b[0m in \u001b[0;36m<module>\u001b[0;34m()\u001b[0m\n\u001b[0;32m----> 1\u001b[0;31m \u001b[0mh5file\u001b[0m\u001b[0;34m.\u001b[0m\u001b[0mclose\u001b[0m\u001b[0;34m(\u001b[0m\u001b[0;34m)\u001b[0m\u001b[0;34m\u001b[0m\u001b[0m\n\u001b[0m",
      "\u001b[0;32m/home/csgrads/dbais001/anaconda2/lib/python2.7/site-packages/h5py/_hl/files.pyc\u001b[0m in \u001b[0;36mclose\u001b[0;34m(self)\u001b[0m\n\u001b[1;32m    285\u001b[0m             \u001b[0;31m# Close file-resident objects first, then the files.\u001b[0m\u001b[0;34m\u001b[0m\u001b[0;34m\u001b[0m\u001b[0m\n\u001b[1;32m    286\u001b[0m             \u001b[0;31m# Otherwise we get errors in MPI mode.\u001b[0m\u001b[0;34m\u001b[0m\u001b[0;34m\u001b[0m\u001b[0m\n\u001b[0;32m--> 287\u001b[0;31m             \u001b[0mid_list\u001b[0m \u001b[0;34m=\u001b[0m \u001b[0mh5f\u001b[0m\u001b[0;34m.\u001b[0m\u001b[0mget_obj_ids\u001b[0m\u001b[0;34m(\u001b[0m\u001b[0mself\u001b[0m\u001b[0;34m.\u001b[0m\u001b[0mid\u001b[0m\u001b[0;34m,\u001b[0m \u001b[0;34m~\u001b[0m\u001b[0mh5f\u001b[0m\u001b[0;34m.\u001b[0m\u001b[0mOBJ_FILE\u001b[0m\u001b[0;34m)\u001b[0m\u001b[0;34m\u001b[0m\u001b[0m\n\u001b[0m\u001b[1;32m    288\u001b[0m             \u001b[0mfile_list\u001b[0m \u001b[0;34m=\u001b[0m \u001b[0mh5f\u001b[0m\u001b[0;34m.\u001b[0m\u001b[0mget_obj_ids\u001b[0m\u001b[0;34m(\u001b[0m\u001b[0mself\u001b[0m\u001b[0;34m.\u001b[0m\u001b[0mid\u001b[0m\u001b[0;34m,\u001b[0m \u001b[0mh5f\u001b[0m\u001b[0;34m.\u001b[0m\u001b[0mOBJ_FILE\u001b[0m\u001b[0;34m)\u001b[0m\u001b[0;34m\u001b[0m\u001b[0m\n\u001b[1;32m    289\u001b[0m \u001b[0;34m\u001b[0m\u001b[0m\n",
      "\u001b[0;32mh5py/_objects.pyx\u001b[0m in \u001b[0;36mh5py._objects.with_phil.wrapper\u001b[0;34m()\u001b[0m\n",
      "\u001b[0;32mh5py/_objects.pyx\u001b[0m in \u001b[0;36mh5py._objects.with_phil.wrapper\u001b[0;34m()\u001b[0m\n",
      "\u001b[0;32mh5py/h5f.pyx\u001b[0m in \u001b[0;36mh5py.h5f.get_obj_ids\u001b[0;34m()\u001b[0m\n",
      "\u001b[0;31mValueError\u001b[0m: Not a file id (Not a file id)"
     ]
    }
   ],
   "source": [
    "h5file.close()"
   ]
  },
  {
   "cell_type": "code",
   "execution_count": null,
   "metadata": {
    "collapsed": true
   },
   "outputs": [],
   "source": []
  }
 ],
 "metadata": {
  "kernelspec": {
   "display_name": "Python 2",
   "language": "python",
   "name": "python2"
  },
  "language_info": {
   "codemirror_mode": {
    "name": "ipython",
    "version": 2
   },
   "file_extension": ".py",
   "mimetype": "text/x-python",
   "name": "python",
   "nbconvert_exporter": "python",
   "pygments_lexer": "ipython2",
   "version": "2.7.14"
  }
 },
 "nbformat": 4,
 "nbformat_minor": 2
}
