{
 "cells": [
  {
   "cell_type": "code",
   "execution_count": 24,
   "metadata": {
    "collapsed": true
   },
   "outputs": [],
   "source": [
    "from __future__ import print_function\n",
    "from __future__ import division\n",
    "\n",
    "from collections import OrderedDict\n",
    "import os\n",
    "import sys\n",
    "import warnings\n",
    "\n",
    "import argparse\n",
    "import logging\n",
    "import h5py as h5\n",
    "import numpy as np\n",
    "import pandas as pd\n",
    "import scipy.io\n",
    "\n",
    "import six\n",
    "from six.moves import range\n",
    "import csv\n",
    "import math as ma\n",
    "from sklearn.metrics import roc_auc_score, confusion_matrix, average_precision_score,roc_curve,auc,precision_recall_curve\n",
    "from keras.preprocessing import sequence\n",
    "from keras.optimizers import RMSprop,Adam, Adadelta, Nadam, Adamax, SGD, Adagrad\n",
    "from keras.models import Sequential\n",
    "from keras.layers.core import  Dropout, Activation, Flatten\n",
    "from keras.regularizers import l1,l2,l1_l2\n",
    "from keras.constraints import maxnorm\n",
    "#from keras.layers.recurrent import LSTM, GRU\n",
    "from keras.callbacks import ModelCheckpoint, EarlyStopping\n",
    "from keras.layers import Conv1D, MaxPooling1D, Dense, LSTM, Bidirectional\n",
    "import matplotlib.pyplot as plt"
   ]
  },
  {
   "cell_type": "code",
   "execution_count": 25,
   "metadata": {},
   "outputs": [
    {
     "name": "stdout",
     "output_type": "stream",
     "text": [
      "(25259, 17)\n",
      "(25259,)\n"
     ]
    }
   ],
   "source": [
    "h5filename = \"histonemodTF_resample_ncl_Cells.h5\"\n",
    "h5file = h5.File(h5filename,'r')\n",
    "input_features = h5file['input/H1_H3K27ac_RPKM']\n",
    "output = h5file['output/H1_H3K27ac']\n",
    "train_x = np.array(input_features)\n",
    "train_y = np.array(output, dtype = 'int8')\n",
    "print(train_x.shape)\n",
    "print(train_y.shape)   "
   ]
  },
  {
   "cell_type": "code",
   "execution_count": 26,
   "metadata": {},
   "outputs": [
    {
     "name": "stdout",
     "output_type": "stream",
     "text": [
      "(25826, 17)\n"
     ]
    }
   ],
   "source": [
    "input_features = h5file['input/GM12878_H3K27ac_RPKM']\n",
    "output = h5file['output/GM12878_H3K27ac']\n",
    "input_features = np.array(input_features)\n",
    "output = np.array(output)\n",
    "output_reshape = output.reshape(len(output),1)\n",
    "print(input_features.shape)"
   ]
  },
  {
   "cell_type": "code",
   "execution_count": 27,
   "metadata": {},
   "outputs": [
    {
     "name": "stdout",
     "output_type": "stream",
     "text": [
      "(7826, 18)\n",
      "(18000, 18)\n"
     ]
    }
   ],
   "source": [
    "#combine the label with input dna\n",
    "input_features_label = np.concatenate((input_features,output_reshape), axis=1)\n",
    "df = pd.DataFrame(output)\n",
    "pos_label= df.loc[df.iloc[:,0]==1]\n",
    "pos_label_ix = np.array(pos_label.index)\n",
    "neg_label = df.loc[df.iloc[:,0]==0]\n",
    "neg_label_ix = np.array(neg_label.index)\n",
    "pos_sam = input_features_label[pos_label_ix,:]\n",
    "neg_sam = input_features_label[neg_label_ix,:]\n",
    "np.random.shuffle(pos_sam)\n",
    "np.random.shuffle(neg_sam)\n",
    "print(pos_sam.shape)\n",
    "print(neg_sam.shape)"
   ]
  },
  {
   "cell_type": "code",
   "execution_count": 28,
   "metadata": {},
   "outputs": [
    {
     "name": "stdout",
     "output_type": "stream",
     "text": [
      "[3600 1566]\n"
     ]
    }
   ],
   "source": [
    "val_neg_sample = int(ma.ceil(neg_sam.shape[0] *0.2))\n",
    "val_pos_sample = int(ma.ceil(pos_sam.shape[0] *0.2))\n",
    "val_neg = neg_sam[0:val_neg_sample,:]\n",
    "val_pos = pos_sam[0:val_pos_sample,:]\n",
    "val_neg_pos = np.concatenate((val_neg, val_pos),axis = 0)\n",
    "val_x = val_neg_pos[:,0:17]\n",
    "val_y = val_neg_pos[:,17]\n",
    "val_x = np.array(val_x)\n",
    "val_y = np.array(val_y, dtype='int8')\n",
    "frq = np.bincount(val_y)\n",
    "print(frq)"
   ]
  },
  {
   "cell_type": "code",
   "execution_count": 29,
   "metadata": {},
   "outputs": [
    {
     "name": "stdout",
     "output_type": "stream",
     "text": [
      "[14400  6260]\n"
     ]
    }
   ],
   "source": [
    "test_neg_sample = neg_sam[val_neg_sample:,:]\n",
    "test_pos_sample = pos_sam[val_pos_sample:,:]\n",
    "test_neg_pos = np.concatenate((test_neg_sample, test_pos_sample),axis = 0)\n",
    "test_x = test_neg_pos[:,0:17]\n",
    "test_y = test_neg_pos[:,17]\n",
    "test_y = np.array(test_y, dtype='int8')\n",
    "frq = np.bincount(test_y)\n",
    "print(frq)"
   ]
  },
  {
   "cell_type": "code",
   "execution_count": 30,
   "metadata": {},
   "outputs": [
    {
     "name": "stdout",
     "output_type": "stream",
     "text": [
      "_________________________________________________________________\n",
      "Layer (type)                 Output Shape              Param #   \n",
      "=================================================================\n",
      "dense_9 (Dense)              (None, 256)               4608      \n",
      "_________________________________________________________________\n",
      "dropout_5 (Dropout)          (None, 256)               0         \n",
      "_________________________________________________________________\n",
      "dense_10 (Dense)             (None, 180)               46260     \n",
      "_________________________________________________________________\n",
      "dropout_6 (Dropout)          (None, 180)               0         \n",
      "_________________________________________________________________\n",
      "dense_11 (Dense)             (None, 60)                10860     \n",
      "_________________________________________________________________\n",
      "dense_12 (Dense)             (None, 1)                 61        \n",
      "=================================================================\n",
      "Total params: 61,789\n",
      "Trainable params: 61,789\n",
      "Non-trainable params: 0\n",
      "_________________________________________________________________\n"
     ]
    }
   ],
   "source": [
    "model = Sequential()\n",
    "model.add(Dense(units=256, input_dim=17, activation=\"relu\",kernel_initializer='glorot_uniform'))\n",
    "model.add(Dropout(0.3))\n",
    "model.add(Dense(units=180,  activation=\"relu\",kernel_initializer='glorot_uniform'))\n",
    "model.add(Dropout(0.3))\n",
    "model.add(Dense(units= 60, activation=\"relu\",kernel_initializer='glorot_uniform')) \n",
    "model.add(Dense(units=1,  activation=\"sigmoid\")) \n",
    "model.summary()"
   ]
  },
  {
   "cell_type": "code",
   "execution_count": 31,
   "metadata": {},
   "outputs": [
    {
     "name": "stdout",
     "output_type": "stream",
     "text": [
      "Train on 25259 samples, validate on 5166 samples\n",
      "Epoch 1/90\n",
      "25160/25259 [============================>.] - ETA: 0s - loss: 0.2991 - acc: 0.8959\n",
      "Epoch 00001: val_loss improved from inf to 1.01596, saving model to HistoneMark_H3K4me3_TF_cells.hdf5\n",
      "25259/25259 [==============================] - 8s 307us/step - loss: 0.2985 - acc: 0.8962 - val_loss: 1.0160 - val_acc: 0.7257\n",
      "Epoch 2/90\n",
      "25110/25259 [============================>.] - ETA: 0s - loss: 0.2143 - acc: 0.9153\n",
      "Epoch 00002: val_loss improved from 1.01596 to 0.94281, saving model to HistoneMark_H3K4me3_TF_cells.hdf5\n",
      "25259/25259 [==============================] - 7s 284us/step - loss: 0.2144 - acc: 0.9153 - val_loss: 0.9428 - val_acc: 0.7249\n",
      "Epoch 3/90\n",
      "25230/25259 [============================>.] - ETA: 0s - loss: 0.2004 - acc: 0.9174\n",
      "Epoch 00003: val_loss improved from 0.94281 to 0.81091, saving model to HistoneMark_H3K4me3_TF_cells.hdf5\n",
      "25259/25259 [==============================] - 7s 283us/step - loss: 0.2002 - acc: 0.9175 - val_loss: 0.8109 - val_acc: 0.7416\n",
      "Epoch 4/90\n",
      "25170/25259 [============================>.] - ETA: 0s - loss: 0.1909 - acc: 0.9217\n",
      "Epoch 00004: val_loss did not improve\n",
      "25259/25259 [==============================] - 7s 280us/step - loss: 0.1910 - acc: 0.9217 - val_loss: 0.8179 - val_acc: 0.7493\n",
      "Epoch 5/90\n",
      "25230/25259 [============================>.] - ETA: 0s - loss: 0.1855 - acc: 0.9224\n",
      "Epoch 00005: val_loss improved from 0.81091 to 0.73455, saving model to HistoneMark_H3K4me3_TF_cells.hdf5\n",
      "25259/25259 [==============================] - 7s 282us/step - loss: 0.1853 - acc: 0.9224 - val_loss: 0.7345 - val_acc: 0.7383\n",
      "Epoch 6/90\n",
      "25170/25259 [============================>.] - ETA: 0s - loss: 0.1817 - acc: 0.9234\n",
      "Epoch 00006: val_loss improved from 0.73455 to 0.63077, saving model to HistoneMark_H3K4me3_TF_cells.hdf5\n",
      "25259/25259 [==============================] - 7s 283us/step - loss: 0.1817 - acc: 0.9234 - val_loss: 0.6308 - val_acc: 0.7565\n",
      "Epoch 7/90\n",
      "25250/25259 [============================>.] - ETA: 0s - loss: 0.1801 - acc: 0.9242\n",
      "Epoch 00007: val_loss improved from 0.63077 to 0.62948, saving model to HistoneMark_H3K4me3_TF_cells.hdf5\n",
      "25259/25259 [==============================] - 7s 283us/step - loss: 0.1801 - acc: 0.9242 - val_loss: 0.6295 - val_acc: 0.7377\n",
      "Epoch 8/90\n",
      "25090/25259 [============================>.] - ETA: 0s - loss: 0.1749 - acc: 0.9250\n",
      "Epoch 00008: val_loss did not improve\n",
      "25259/25259 [==============================] - 7s 282us/step - loss: 0.1744 - acc: 0.9252 - val_loss: 0.6905 - val_acc: 0.7499\n",
      "Epoch 9/90\n",
      "25190/25259 [============================>.] - ETA: 0s - loss: 0.1749 - acc: 0.9254\n",
      "Epoch 00009: val_loss did not improve\n",
      "25259/25259 [==============================] - 7s 282us/step - loss: 0.1749 - acc: 0.9253 - val_loss: 0.7092 - val_acc: 0.7437\n",
      "Epoch 10/90\n",
      "25250/25259 [============================>.] - ETA: 0s - loss: 0.1708 - acc: 0.9253\n",
      "Epoch 00010: val_loss improved from 0.62948 to 0.60158, saving model to HistoneMark_H3K4me3_TF_cells.hdf5\n",
      "25259/25259 [==============================] - 7s 284us/step - loss: 0.1707 - acc: 0.9254 - val_loss: 0.6016 - val_acc: 0.7611\n",
      "Epoch 11/90\n",
      "25230/25259 [============================>.] - ETA: 0s - loss: 0.1702 - acc: 0.9276\n",
      "Epoch 00011: val_loss did not improve\n",
      "25259/25259 [==============================] - 7s 282us/step - loss: 0.1702 - acc: 0.9275 - val_loss: 0.7295 - val_acc: 0.7443\n",
      "Epoch 12/90\n",
      "25230/25259 [============================>.] - ETA: 0s - loss: 0.1681 - acc: 0.9256\n",
      "Epoch 00012: val_loss did not improve\n",
      "25259/25259 [==============================] - 7s 283us/step - loss: 0.1681 - acc: 0.9257 - val_loss: 0.7365 - val_acc: 0.7538\n",
      "Epoch 13/90\n",
      "25070/25259 [============================>.] - ETA: 0s - loss: 0.1677 - acc: 0.9281\n",
      "Epoch 00013: val_loss did not improve\n",
      "25259/25259 [==============================] - 7s 281us/step - loss: 0.1675 - acc: 0.9283 - val_loss: 0.6076 - val_acc: 0.7534\n",
      "Epoch 14/90\n",
      "25250/25259 [============================>.] - ETA: 0s - loss: 0.1671 - acc: 0.9272\n",
      "Epoch 00014: val_loss did not improve\n",
      "25259/25259 [==============================] - 7s 285us/step - loss: 0.1671 - acc: 0.9273 - val_loss: 0.6260 - val_acc: 0.7505\n",
      "Epoch 15/90\n",
      "25140/25259 [============================>.] - ETA: 0s - loss: 0.1642 - acc: 0.9300\n",
      "Epoch 00015: val_loss did not improve\n",
      "25259/25259 [==============================] - 7s 283us/step - loss: 0.1642 - acc: 0.9300 - val_loss: 0.6609 - val_acc: 0.7511\n",
      "Epoch 16/90\n",
      "25200/25259 [============================>.] - ETA: 0s - loss: 0.1644 - acc: 0.9287\n",
      "Epoch 00016: val_loss did not improve\n",
      "25259/25259 [==============================] - 7s 285us/step - loss: 0.1643 - acc: 0.9288 - val_loss: 0.6496 - val_acc: 0.7631\n",
      "Epoch 17/90\n",
      "25160/25259 [============================>.] - ETA: 0s - loss: 0.1639 - acc: 0.9293\n",
      "Epoch 00017: val_loss did not improve\n",
      "25259/25259 [==============================] - 7s 283us/step - loss: 0.1637 - acc: 0.9293 - val_loss: 0.6245 - val_acc: 0.7584\n",
      "Epoch 18/90\n",
      "25220/25259 [============================>.] - ETA: 0s - loss: 0.1613 - acc: 0.9307\n",
      "Epoch 00018: val_loss did not improve\n",
      "25259/25259 [==============================] - 7s 284us/step - loss: 0.1615 - acc: 0.9306 - val_loss: 0.6549 - val_acc: 0.7470\n",
      "Epoch 19/90\n",
      "25110/25259 [============================>.] - ETA: 0s - loss: 0.1608 - acc: 0.9296\n",
      "Epoch 00019: val_loss did not improve\n",
      "25259/25259 [==============================] - 7s 282us/step - loss: 0.1605 - acc: 0.9298 - val_loss: 0.7180 - val_acc: 0.7513\n",
      "Epoch 20/90\n",
      "25240/25259 [============================>.] - ETA: 0s - loss: 0.1604 - acc: 0.9293\n",
      "Epoch 00020: val_loss did not improve\n",
      "25259/25259 [==============================] - 7s 284us/step - loss: 0.1603 - acc: 0.9294 - val_loss: 0.6069 - val_acc: 0.7485\n",
      "Epoch 00020: early stopping\n",
      "20660/20660 [==============================] - 1s 27us/step\n",
      "[0.59316078501429848, 0.75319457890795827]\n",
      "0.933665773651\n",
      "0.802217417467\n"
     ]
    }
   ],
   "source": [
    "adam = Adam(lr = 0.0001)\n",
    "model.compile(loss='binary_crossentropy', optimizer=adam, metrics=['accuracy'])\n",
    "checkpointer = ModelCheckpoint(filepath=\"HistoneMark_H3K4me3_TF_cells.hdf5\",verbose=1, monitor='val_loss',save_best_only=True)\n",
    "earlystopper = EarlyStopping(monitor='val_loss', patience=10, verbose=1)\n",
    "model.fit(train_x, train_y, batch_size=10, epochs=90, shuffle=True, validation_data=(val_x, val_y), callbacks=[checkpointer,earlystopper])\n",
    "y_pred = model.predict(test_x)\n",
    "#np.savetxt('H1_K562_H3K4me3_true.csv', test_y, delimiter=\",\")\n",
    "tresults = model.evaluate(test_x, test_y)\n",
    "print(tresults)\n",
    "print(roc_auc_score(test_y, y_pred))\n",
    "print(average_precision_score(test_y, y_pred))\n"
   ]
  },
  {
   "cell_type": "code",
   "execution_count": 32,
   "metadata": {},
   "outputs": [
    {
     "data": {
      "image/png": "[encoded data removed]",
      "text/plain": [
       "<matplotlib.figure.Figure at 0x7f05434b3f50>"
      ]
     },
     "metadata": {},
     "output_type": "display_data"
    }
   ],
   "source": [
    "fpr, tpr, threshold = roc_curve(test_y, y_pred)\n",
    "roc_auc = auc(fpr, tpr)\n",
    "plt.title('Receiver Operating Characteristic')\n",
    "plt.plot(fpr, tpr, 'b', label = 'AUC = %0.2f' % roc_auc)\n",
    "plt.legend(loc = 'lower right')\n",
    "plt.plot([0, 1], [0, 1],'r--')\n",
    "plt.xlim([0, 1])\n",
    "plt.ylim([0, 1])\n",
    "plt.ylabel('True Positive Rate')\n",
    "plt.xlabel('False Positive Rate')\n",
    "plt.show()\n"
   ]
  },
  {
   "cell_type": "code",
   "execution_count": 33,
   "metadata": {},
   "outputs": [
    {
     "data": {
      "image/png": "[encoded data removed]",
      "text/plain": [
       "<matplotlib.figure.Figure at 0x7f02b00cf2d0>"
      ]
     },
     "metadata": {},
     "output_type": "display_data"
    },
    {
     "name": "stdout",
     "output_type": "stream",
     "text": [
      "[[14163   237]\n",
      " [ 4862  1398]]\n"
     ]
    }
   ],
   "source": [
    "precision, recall, thresholds = precision_recall_curve(test_y, y_pred)\n",
    "pr_auc = average_precision_score(test_y, y_pred)\n",
    "plt.title('Precision Recall Curve')\n",
    "plt.plot(recall, precision, 'b', label = 'AUC = %0.2f' % pr_auc)\n",
    "plt.legend(loc = 'lower right')\n",
    "plt.plot([0, 1], [0, 1],'r--')\n",
    "plt.xlim([0, 1])\n",
    "plt.ylim([0, 1])\n",
    "plt.xlabel('Recall')\n",
    "plt.ylabel('Precision')\n",
    "plt.show()\n",
    "y_pred = (y_pred>0.5)\n",
    "cm = confusion_matrix(test_y, y_pred)\n",
    "print(cm)"
   ]
  },
  {
   "cell_type": "code",
   "execution_count": 34,
   "metadata": {
    "collapsed": true
   },
   "outputs": [],
   "source": [
    "h5file.close()"
   ]
  },
  {
   "cell_type": "code",
   "execution_count": 11,
   "metadata": {
    "collapsed": true
   },
   "outputs": [],
   "source": [
    "np.savetxt('H1_K562_H3K4me3_true.csv', test_y, delimiter=\",\")\n",
    "np.savetxt('H1_K562_H3K4me3_pred.csv', y_pred, delimiter=\",\")"
   ]
  },
  {
   "cell_type": "code",
   "execution_count": 12,
   "metadata": {
    "collapsed": true
   },
   "outputs": [],
   "source": [
    "np.savetxt('H1_K562_H3K4me3_true_x.csv', test_x, delimiter=\",\")"
   ]
  },
  {
   "cell_type": "code",
   "execution_count": null,
   "metadata": {
    "collapsed": true
   },
   "outputs": [],
   "source": []
  }
 ],
 "metadata": {
  "kernelspec": {
   "display_name": "Python 2",
   "language": "python",
   "name": "python2"
  },
  "language_info": {
   "codemirror_mode": {
    "name": "ipython",
    "version": 2
   },
   "file_extension": ".py",
   "mimetype": "text/x-python",
   "name": "python",
   "nbconvert_exporter": "python",
   "pygments_lexer": "ipython2",
   "version": "2.7.14"
  }
 },
 "nbformat": 4,
 "nbformat_minor": 2
}
