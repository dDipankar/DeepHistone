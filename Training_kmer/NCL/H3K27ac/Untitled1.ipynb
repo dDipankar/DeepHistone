{
 "cells": [
  {
   "cell_type": "code",
   "execution_count": 40,
   "metadata": {
    "collapsed": true
   },
   "outputs": [],
   "source": [
    "from __future__ import print_function\n",
    "from __future__ import division\n",
    "\n",
    "from collections import OrderedDict\n",
    "import os\n",
    "import sys\n",
    "import warnings\n",
    "\n",
    "import argparse\n",
    "import logging\n",
    "import h5py as h5\n",
    "import numpy as np\n",
    "import pandas as pd\n",
    "import scipy.io\n",
    "\n",
    "import six\n",
    "import csv\n",
    "import math\n",
    "from six.moves import range\n",
    "\n",
    "from sklearn.metrics import roc_auc_score, confusion_matrix, average_precision_score\n",
    "from keras.preprocessing import sequence\n",
    "from keras.optimizers import RMSprop,Adam, SGD\n",
    "from keras.models import Sequential\n",
    "from keras.layers.core import  Dropout, Activation, Flatten\n",
    "from keras.regularizers import l1,l2,l1_l2\n",
    "from keras.constraints import maxnorm\n",
    "#from keras.layers.recurrent import LSTM, GRU\n",
    "from keras.callbacks import ModelCheckpoint, EarlyStopping\n",
    "from keras.layers import Conv1D, MaxPooling1D, Dense, LSTM, Bidirectional\n",
    "#from keras.utils import plot_model\n",
    "#from keras.utils.layer_utils import print_layer_shapes\n",
    "# fix random seed for reproducibility\n",
    "\n",
    "from sklearn.decomposition import PCA\n",
    "from imblearn.under_sampling import OneSidedSelection, NeighbourhoodCleaningRule\n",
    "from imblearn.over_sampling import SMOTE, ADASYN\n",
    "from imblearn.combine import SMOTEENN,SMOTETomek\n",
    "np.random.seed(1369)"
   ]
  },
  {
   "cell_type": "code",
   "execution_count": 41,
   "metadata": {},
   "outputs": [
    {
     "name": "stdout",
     "output_type": "stream",
     "text": [
      "(25740, 2080)\n",
      "(25740,)\n"
     ]
    }
   ],
   "source": [
    "h5filename = \"histonemodKmer_resample_ncl.h5\"\n",
    "h5file = h5.File(h5filename,'r')\n",
    "input_features = h5file['input/H3K27ac_kmer']\n",
    "output_H3K27ac = h5file['output/H3K27ac']\n",
    "input_features = np.array(input_features,dtype='int8')\n",
    "output_H3K27ac = np.array(output_H3K27ac, dtype='int8')\n",
    "print(input_features.shape)\n",
    "print(output_H3K27ac.shape)"
   ]
  },
  {
   "cell_type": "code",
   "execution_count": 42,
   "metadata": {},
   "outputs": [
    {
     "name": "stdout",
     "output_type": "stream",
     "text": [
      "here\n",
      "[    0     4     6 ..., 25719 25723 25731]\n",
      "(25740, 2081)\n",
      "(4123, 1)\n",
      "(21617, 1)\n",
      "(4123, 2081)\n",
      "(21617, 2081)\n",
      "[[0 0 0 ..., 1 0 2]\n",
      " [3 0 1 ..., 1 0 0]\n",
      " [9 2 0 ..., 0 1 0]\n",
      " ..., \n",
      " [1 1 0 ..., 0 1 0]\n",
      " [4 3 3 ..., 1 0 1]\n",
      " [0 0 0 ..., 0 1 0]]\n"
     ]
    }
   ],
   "source": [
    "output_H3K27ac_reshape = output_H3K27ac.reshape(len(output_H3K27ac),1)\n",
    "#combine the label with input dna\n",
    "input_features_label = np.concatenate((input_features,output_H3K27ac_reshape), axis=1)\n",
    "H3K27ac_df = pd.DataFrame(output_H3K27ac)\n",
    "pos_label= H3K27ac_df.loc[H3K27ac_df.iloc[:,0]==1]\n",
    "pos_label_ix = np.array(pos_label.index)\n",
    "neg_label = H3K27ac_df.loc[H3K27ac_df.iloc[:,0]==0]\n",
    "neg_label_ix = np.array(neg_label.index)\n",
    "pos_sam_H3K27ac = input_features_label[pos_label_ix,:]\n",
    "neg_sam_H3K27ac = input_features_label[neg_label_ix,:]\n",
    "print('here')\n",
    "print(pos_label_ix)\n",
    "print(input_features_label.shape)\n",
    "print(pos_label.shape)\n",
    "print(neg_label.shape)\n",
    "print(pos_sam_H3K27ac.shape)\n",
    "print(neg_sam_H3K27ac.shape)\n",
    "print(input_features)"
   ]
  },
  {
   "cell_type": "code",
   "execution_count": 43,
   "metadata": {},
   "outputs": [
    {
     "name": "stdout",
     "output_type": "stream",
     "text": [
      "[17294  3176]\n",
      "(20470, 2080)\n",
      "(20470,)\n"
     ]
    }
   ],
   "source": [
    "#apply SMOTE\n",
    "train_neg_H3K27ac_s = neg_sam_H3K27ac[0:17294,:]\n",
    "train_pos_H3K27ac_s = pos_sam_H3K27ac[0:3176,:]\n",
    "train_neg_pos_H3K27ac = np.concatenate((train_neg_H3K27ac_s, train_pos_H3K27ac_s),axis = 0)\n",
    "np.random.shuffle(train_neg_pos_H3K27ac)\n",
    "X_train_H3K27ac_s = train_neg_pos_H3K27ac[:,0:2080]\n",
    "Y_train_H3K27ac_s = train_neg_pos_H3K27ac[:,2080]\n",
    "frq = np.bincount(Y_train_H3K27ac_s)\n",
    "print(frq)\n",
    "print(X_train_H3K27ac_s.shape)\n",
    "print(Y_train_H3K27ac_s.shape)"
   ]
  },
  {
   "cell_type": "code",
   "execution_count": 44,
   "metadata": {},
   "outputs": [
    {
     "name": "stdout",
     "output_type": "stream",
     "text": [
      "[4323  947]\n",
      "(5270, 2080)\n",
      "(5270,)\n"
     ]
    }
   ],
   "source": [
    "#test\n",
    "test_neg_H3K27ac = neg_sam_H3K27ac[17294:,:]\n",
    "test_pos_H3K27ac = pos_sam_H3K27ac [3176:,:]\n",
    "test_neg_pos_H3K27ac = np.concatenate((test_neg_H3K27ac, test_pos_H3K27ac),axis = 0)\n",
    "np.random.shuffle(test_neg_pos_H3K27ac)\n",
    "X_test_H3K27ac = test_neg_pos_H3K27ac[:,0:2080]\n",
    "Y_test_H3K27ac = test_neg_pos_H3K27ac[:,2080]\n",
    "frq = np.bincount(Y_test_H3K27ac)\n",
    "print(frq)\n",
    "print(X_test_H3K27ac.shape)\n",
    "print(Y_test_H3K27ac.shape)"
   ]
  },
  {
   "cell_type": "code",
   "execution_count": 45,
   "metadata": {
    "collapsed": true
   },
   "outputs": [],
   "source": [
    "smote = ADASYN(random_state = 42)\n",
    "X_resampled, y_resampled = smote.fit_sample(X_train_H3K27ac_s, Y_train_H3K27ac_s)\n"
   ]
  },
  {
   "cell_type": "code",
   "execution_count": 52,
   "metadata": {},
   "outputs": [
    {
     "name": "stdout",
     "output_type": "stream",
     "text": [
      "(34507, 2080)\n",
      "(34507,)\n",
      "[17294 17213]\n"
     ]
    }
   ],
   "source": [
    "print(X_resampled.shape)\n",
    "print(y_resampled.shape)\n",
    "frq = np.bincount(y_resampled)\n",
    "print(frq)"
   ]
  },
  {
   "cell_type": "code",
   "execution_count": 53,
   "metadata": {
    "collapsed": true
   },
   "outputs": [],
   "source": []
  },
  {
   "cell_type": "code",
   "execution_count": 54,
   "metadata": {},
   "outputs": [
    {
     "name": "stdout",
     "output_type": "stream",
     "text": [
      "(18024, 2080)\n",
      "(18024,)\n",
      "[  811 17213]\n"
     ]
    }
   ],
   "source": []
  },
  {
   "cell_type": "code",
   "execution_count": 55,
   "metadata": {},
   "outputs": [
    {
     "name": "stdout",
     "output_type": "stream",
     "text": [
      "[1 1 1 1 1 1 1 1 1 1 1 1 1 1 1 1 1 1 1 1 1 1 1 1 1 1 1 0 1 1 1 1 0 1 1 1 1\n",
      " 1 1 1 1 0 1 1 1 1 1 1 1 1]\n",
      "here\n",
      "[    0     1     2 ..., 18021 18022 18023]\n",
      "(18024, 2081)\n",
      "(17213, 1)\n",
      "(811, 1)\n",
      "(17213, 2081)\n",
      "(811, 2081)\n",
      "[[0 0 0 ..., 1 0 2]\n",
      " [3 0 1 ..., 1 0 0]\n",
      " [9 2 0 ..., 0 1 0]\n",
      " ..., \n",
      " [1 1 0 ..., 0 1 0]\n",
      " [4 3 3 ..., 1 0 1]\n",
      " [0 0 0 ..., 0 1 0]]\n"
     ]
    }
   ],
   "source": [
    "y_resampled = np.array(y_resampled, dtype='int8')\n",
    "X_resampled = np.array(X_resampled, dtype='int8')\n",
    "print(y_resampled[0:50])\n",
    "output_H3K27ac_reshape = y_resampled.reshape(len(y_resampled),1)\n",
    "#combine the label with input dna\n",
    "input_features_label = np.concatenate((X_resampled,output_H3K27ac_reshape), axis=1)\n",
    "H3K27ac_df = pd.DataFrame(y_resampled)\n",
    "pos_label= H3K27ac_df.loc[H3K27ac_df.iloc[:,0]==1]\n",
    "pos_label_ix = np.array(pos_label.index)\n",
    "neg_label = H3K27ac_df.loc[H3K27ac_df.iloc[:,0]==0]\n",
    "neg_label_ix = np.array(neg_label.index)\n",
    "pos_sam_H3K27ac = input_features_label[pos_label_ix,:]\n",
    "neg_sam_H3K27ac = input_features_label[neg_label_ix,:]\n",
    "print('here')\n",
    "print(pos_label_ix)\n",
    "print(input_features_label.shape)\n",
    "print(pos_label.shape)\n",
    "print(neg_label.shape)\n",
    "print(pos_sam_H3K27ac.shape)\n",
    "print(neg_sam_H3K27ac.shape)\n",
    "print(input_features)"
   ]
  },
  {
   "cell_type": "code",
   "execution_count": 56,
   "metadata": {},
   "outputs": [
    {
     "name": "stdout",
     "output_type": "stream",
     "text": [
      "15492\n",
      "730\n",
      "[  730 15492]\n",
      "(16222, 2080)\n",
      "(16222,)\n",
      "[1 1 1 1 1 1 1 1 1 1 1 1 1 1 1 1 1 1 1 1 1 1 1 1 1 1 1 1 1 1 1 1 1 1 1 1 1\n",
      " 1 1 1 1 1 1 1 1 1 1 1 1 1]\n"
     ]
    }
   ],
   "source": [
    "# data for train\n",
    "pos_threshhold = int(math.ceil(pos_label.shape[0] * 0.9))\n",
    "neg_threshhold = int(math.ceil(neg_label.shape[0] * 0.9))\n",
    "train_neg_H3K27ac = neg_sam_H3K27ac[0:neg_threshhold,:]\n",
    "train_pos_H3K27ac = pos_sam_H3K27ac[0:pos_threshhold,:]\n",
    "train_neg_pos_H3K27ac = np.concatenate((train_neg_H3K27ac, train_pos_H3K27ac),axis = 0)\n",
    "np.random.shuffle(train_neg_pos_H3K27ac)\n",
    "X_train_H3K27ac = train_neg_pos_H3K27ac[:,0:2080]\n",
    "Y_train_H3K27ac = train_neg_pos_H3K27ac[:,2080]\n",
    "frq = np.bincount(Y_train_H3K27ac)\n",
    "print(pos_threshhold)\n",
    "print(neg_threshhold)\n",
    "print(frq)\n",
    "print(X_train_H3K27ac.shape)\n",
    "print(Y_train_H3K27ac.shape)\n",
    "print(Y_train_H3K27ac[0:50])"
   ]
  },
  {
   "cell_type": "code",
   "execution_count": 57,
   "metadata": {},
   "outputs": [
    {
     "name": "stdout",
     "output_type": "stream",
     "text": [
      "[  81 1721]\n",
      "(1802, 2080)\n",
      "(1802,)\n"
     ]
    }
   ],
   "source": [
    "#val\n",
    "val_neg_H3K27ac = neg_sam_H3K27ac[neg_threshhold:,:]\n",
    "val_pos_H3K27ac = pos_sam_H3K27ac [pos_threshhold:,:]\n",
    "val_neg_pos_H3K27ac = np.concatenate((val_neg_H3K27ac, val_pos_H3K27ac),axis = 0)\n",
    "np.random.shuffle(val_neg_pos_H3K27ac)\n",
    "X_val_H3K27ac = val_neg_pos_H3K27ac[:,0:2080]\n",
    "Y_val_H3K27ac = val_neg_pos_H3K27ac[:,2080]\n",
    "frq = np.bincount(Y_val_H3K27ac)\n",
    "print(frq)\n",
    "print(X_val_H3K27ac.shape)\n",
    "print(Y_val_H3K27ac.shape)"
   ]
  },
  {
   "cell_type": "code",
   "execution_count": 58,
   "metadata": {},
   "outputs": [
    {
     "name": "stdout",
     "output_type": "stream",
     "text": [
      "_________________________________________________________________\n",
      "Layer (type)                 Output Shape              Param #   \n",
      "=================================================================\n",
      "dense_17 (Dense)             (None, 512)               1065472   \n",
      "_________________________________________________________________\n",
      "dropout_9 (Dropout)          (None, 512)               0         \n",
      "_________________________________________________________________\n",
      "dense_18 (Dense)             (None, 180)               92340     \n",
      "_________________________________________________________________\n",
      "dropout_10 (Dropout)         (None, 180)               0         \n",
      "_________________________________________________________________\n",
      "dense_19 (Dense)             (None, 70)                12670     \n",
      "_________________________________________________________________\n",
      "dense_20 (Dense)             (None, 1)                 71        \n",
      "=================================================================\n",
      "Total params: 1,170,553\n",
      "Trainable params: 1,170,553\n",
      "Non-trainable params: 0\n",
      "_________________________________________________________________\n"
     ]
    }
   ],
   "source": [
    "model = Sequential()\n",
    "model.add(Dense(units=512, input_dim=2080, activation=\"tanh\", kernel_initializer='glorot_uniform'))\n",
    "model.add(Dropout(0.5))\n",
    "model.add(Dense(units=180, activation=\"tanh\",kernel_initializer='glorot_uniform'))\n",
    "model.add(Dropout(0.5))\n",
    "model.add(Dense(units=70, activation=\"tanh\",kernel_initializer='glorot_uniform'))\n",
    "model.add(Dense(units=1, activation=\"sigmoid\"))\n",
    "model.summary()"
   ]
  },
  {
   "cell_type": "code",
   "execution_count": 59,
   "metadata": {},
   "outputs": [
    {
     "name": "stdout",
     "output_type": "stream",
     "text": [
      "running at most 60 epochs\n",
      "Train on 16222 samples, validate on 1802 samples\n",
      "Epoch 1/50\n",
      "16128/16222 [============================>.] - ETA: 0s - loss: 0.0860 - acc: 0.9741\n",
      "Epoch 00001: val_loss improved from inf to 0.03246, saving model to HistoneMark_H3K27ac.hdf5\n",
      "16222/16222 [==============================] - 5s 286us/step - loss: 0.0857 - acc: 0.9742 - val_loss: 0.0325 - val_acc: 0.9911\n",
      "Epoch 2/50\n",
      "16188/16222 [============================>.] - ETA: 0s - loss: 0.0352 - acc: 0.9901\n",
      "Epoch 00002: val_loss improved from 0.03246 to 0.02566, saving model to HistoneMark_H3K27ac.hdf5\n",
      "16222/16222 [==============================] - 4s 254us/step - loss: 0.0352 - acc: 0.9901 - val_loss: 0.0257 - val_acc: 0.9945\n",
      "Epoch 3/50\n",
      "16020/16222 [============================>.] - ETA: 0s - loss: 0.0221 - acc: 0.9943\n",
      "Epoch 00003: val_loss did not improve\n",
      "16222/16222 [==============================] - 4s 261us/step - loss: 0.0219 - acc: 0.9944 - val_loss: 0.0284 - val_acc: 0.9945\n",
      "Epoch 4/50\n",
      "16044/16222 [============================>.] - ETA: 0s - loss: 0.0143 - acc: 0.9963\n",
      "Epoch 00004: val_loss improved from 0.02566 to 0.02040, saving model to HistoneMark_H3K27ac.hdf5\n",
      "16222/16222 [==============================] - 4s 253us/step - loss: 0.0141 - acc: 0.9963 - val_loss: 0.0204 - val_acc: 0.9972\n",
      "Epoch 5/50\n",
      "16044/16222 [============================>.] - ETA: 0s - loss: 0.0113 - acc: 0.9973\n",
      "Epoch 00005: val_loss did not improve\n",
      "16222/16222 [==============================] - 4s 252us/step - loss: 0.0113 - acc: 0.9972 - val_loss: 0.0256 - val_acc: 0.9950\n",
      "Epoch 6/50\n",
      "16164/16222 [============================>.] - ETA: 0s - loss: 0.0083 - acc: 0.9981\n",
      "Epoch 00006: val_loss improved from 0.02040 to 0.01574, saving model to HistoneMark_H3K27ac.hdf5\n",
      "16222/16222 [==============================] - 4s 261us/step - loss: 0.0083 - acc: 0.9982 - val_loss: 0.0157 - val_acc: 0.9978\n",
      "Epoch 7/50\n",
      "16128/16222 [============================>.] - ETA: 0s - loss: 0.0071 - acc: 0.9982\n",
      "Epoch 00007: val_loss did not improve\n",
      "16222/16222 [==============================] - 4s 256us/step - loss: 0.0071 - acc: 0.9982 - val_loss: 0.0208 - val_acc: 0.9967\n",
      "Epoch 8/50\n",
      "16056/16222 [============================>.] - ETA: 0s - loss: 0.0060 - acc: 0.9980\n",
      "Epoch 00008: val_loss did not improve\n",
      "16222/16222 [==============================] - 4s 257us/step - loss: 0.0059 - acc: 0.9980 - val_loss: 0.0192 - val_acc: 0.9961\n",
      "Epoch 9/50\n",
      "16068/16222 [============================>.] - ETA: 0s - loss: 0.0039 - acc: 0.9987\n",
      "Epoch 00009: val_loss did not improve\n",
      "16222/16222 [==============================] - 4s 254us/step - loss: 0.0039 - acc: 0.9987 - val_loss: 0.0379 - val_acc: 0.9939\n",
      "Epoch 10/50\n",
      "16056/16222 [============================>.] - ETA: 0s - loss: 0.0022 - acc: 0.9990\n",
      "Epoch 00010: val_loss did not improve\n",
      "16222/16222 [==============================] - 4s 255us/step - loss: 0.0021 - acc: 0.9990 - val_loss: 0.0276 - val_acc: 0.9956\n",
      "Epoch 11/50\n",
      "16128/16222 [============================>.] - ETA: 0s - loss: 0.0027 - acc: 0.9992\n",
      "Epoch 00011: val_loss did not improve\n",
      "16222/16222 [==============================] - 4s 253us/step - loss: 0.0027 - acc: 0.9992 - val_loss: 0.0220 - val_acc: 0.9967\n",
      "Epoch 12/50\n",
      "16032/16222 [============================>.] - ETA: 0s - loss: 0.0031 - acc: 0.9990\n",
      "Epoch 00012: val_loss did not improve\n",
      "16222/16222 [==============================] - 4s 254us/step - loss: 0.0031 - acc: 0.9990 - val_loss: 0.0337 - val_acc: 0.9950\n",
      "Epoch 13/50\n",
      "16104/16222 [============================>.] - ETA: 0s - loss: 0.0019 - acc: 0.9995\n",
      "Epoch 00013: val_loss did not improve\n",
      "16222/16222 [==============================] - 4s 254us/step - loss: 0.0019 - acc: 0.9995 - val_loss: 0.0215 - val_acc: 0.9972\n",
      "Epoch 14/50\n",
      "16020/16222 [============================>.] - ETA: 0s - loss: 0.0022 - acc: 0.9991\n",
      "Epoch 00014: val_loss did not improve\n",
      "16222/16222 [==============================] - 4s 254us/step - loss: 0.0022 - acc: 0.9991 - val_loss: 0.0459 - val_acc: 0.9939\n",
      "Epoch 15/50\n",
      "16068/16222 [============================>.] - ETA: 0s - loss: 0.0028 - acc: 0.9989\n",
      "Epoch 00015: val_loss did not improve\n",
      "16222/16222 [==============================] - 4s 256us/step - loss: 0.0027 - acc: 0.9989 - val_loss: 0.0267 - val_acc: 0.9961\n",
      "Epoch 16/50\n",
      "16152/16222 [============================>.] - ETA: 0s - loss: 0.0018 - acc: 0.9994\n",
      "Epoch 00016: val_loss did not improve\n",
      "16222/16222 [==============================] - 5s 279us/step - loss: 0.0018 - acc: 0.9994 - val_loss: 0.0204 - val_acc: 0.9950\n",
      "Epoch 00016: early stopping\n",
      "5270/5270 [==============================] - 0s 35us/step\n",
      "[2.8656320320361028, 0.71195445924827672]\n",
      "_________________________________________________________________\n",
      "Layer (type)                 Output Shape              Param #   \n",
      "=================================================================\n",
      "dense_17 (Dense)             (None, 512)               1065472   \n",
      "_________________________________________________________________\n",
      "dropout_9 (Dropout)          (None, 512)               0         \n",
      "_________________________________________________________________\n",
      "dense_18 (Dense)             (None, 180)               92340     \n",
      "_________________________________________________________________\n",
      "dropout_10 (Dropout)         (None, 180)               0         \n",
      "_________________________________________________________________\n",
      "dense_19 (Dense)             (None, 70)                12670     \n",
      "_________________________________________________________________\n",
      "dense_20 (Dense)             (None, 1)                 71        \n",
      "=================================================================\n",
      "Total params: 1,170,553\n",
      "Trainable params: 1,170,553\n",
      "Non-trainable params: 0\n",
      "_________________________________________________________________\n",
      "0.887103215751\n",
      "0.55735481582\n",
      "[[2835 1488]\n",
      " [  30  917]]\n"
     ]
    }
   ],
   "source": [
    "adam = Adam(lr=0.0001)\n",
    "sgd = SGD(lr=0.01, decay=1e-6, momentum=0.9, nesterov=True)\n",
    "model.compile(loss='binary_crossentropy', optimizer=adam, metrics=['accuracy'])\n",
    "print('running at most 60 epochs')\n",
    "checkpointer = ModelCheckpoint(filepath=\"HistoneMark_H3K27ac.hdf5\", verbose=1, save_best_only=True)\n",
    "earlystopper = EarlyStopping(monitor='val_loss', patience=10, verbose=1)\n",
    "model.fit(X_train_H3K27ac, Y_train_H3K27ac, batch_size=12, epochs=50, shuffle=True, validation_data=( X_val_H3K27ac, Y_val_H3K27ac), callbacks=[checkpointer,earlystopper])\n",
    "y_pred = model.predict(X_test_H3K27ac)\n",
    " #y_pred = model.predict(X_test_s)\n",
    " #tresults = model.evaluate(X_test_s, Y_test_s)\n",
    "tresults = model.evaluate(X_test_H3K27ac, Y_test_H3K27ac)\n",
    "print(tresults)\n",
    "model.summary()\t\t\n",
    " #print(roc_auc_score(Y_test_s,y_pred))\n",
    "print(roc_auc_score(Y_test_H3K27ac, y_pred))\n",
    "print(average_precision_score(Y_test_H3K27ac, y_pred))\n",
    "y_pred = (y_pred>0.5)\n",
    "cm = confusion_matrix(Y_test_H3K27ac, y_pred)\n",
    "print(cm)"
   ]
  },
  {
   "cell_type": "code",
   "execution_count": null,
   "metadata": {
    "collapsed": true
   },
   "outputs": [],
   "source": []
  }
 ],
 "metadata": {
  "kernelspec": {
   "display_name": "Python 2",
   "language": "python",
   "name": "python2"
  },
  "language_info": {
   "codemirror_mode": {
    "name": "ipython",
    "version": 2
   },
   "file_extension": ".py",
   "mimetype": "text/x-python",
   "name": "python",
   "nbconvert_exporter": "python",
   "pygments_lexer": "ipython2",
   "version": "2.7.14"
  }
 },
 "nbformat": 4,
 "nbformat_minor": 2
}
